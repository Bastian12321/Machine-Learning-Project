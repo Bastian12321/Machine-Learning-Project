{
 "cells": [
  {
   "cell_type": "code",
   "execution_count": 1,
   "id": "2be8780f",
   "metadata": {},
   "outputs": [
    {
     "name": "stdout",
     "output_type": "stream",
     "text": [
      "Data has been loaded succesfully\n",
      "1\n",
      "2\n",
      "3\n",
      "4\n",
      "5\n",
      "6\n",
      "7\n",
      "8\n",
      "9\n",
      "10\n",
      "   ANN-hiddenlayers  ANN-error  log-lambda  log-error  Baseline-error\n",
      "0                 1   0.234043         0.1   0.255319        0.361702\n",
      "1                 1   0.340426         0.1   0.340426        0.361702\n",
      "2                 1   0.304348         0.1   0.326087        0.413043\n",
      "3                 1   0.239130         0.1   0.239130        0.326087\n",
      "4                 1   0.282609         0.1   0.282609        0.304348\n",
      "5                 1   0.369565         0.1   0.326087        0.260870\n",
      "6                 1   0.217391         0.1   0.195652        0.369565\n",
      "7                 1   0.260870         0.1   0.239130        0.347826\n",
      "8                 1   0.195652         0.1   0.195652        0.304348\n",
      "9                 1   0.304348         0.1   0.304348        0.413043\n"
     ]
    }
   ],
   "source": [
    "import numpy as np\n",
    "from scipy import stats\n",
    "\n",
    "from classifier import *  # assuming df is loaded here with fold-wise errors"
   ]
  },
  {
   "cell_type": "code",
   "execution_count": null,
   "id": "e9559d07",
   "metadata": {},
   "outputs": [
    {
     "name": "stdout",
     "output_type": "stream",
     "text": [
      "\n",
      "ANN vs LogReg\n",
      "  Mean difference: 0.00439\n",
      "  Std dev: 0.01991\n",
      "  t-statistic: 0.69790\n",
      "  p-value: 0.50287\n",
      "  95% Confidence Interval: [-0.00985, 0.01864]\n",
      "\n",
      "ANN vs Baseline\n",
      "  Mean difference: -0.07142\n",
      "  Std dev: 0.07584\n",
      "  t-statistic: -2.97795\n",
      "  p-value: 0.01550\n",
      "  95% Confidence Interval: [-0.12566, -0.01717]\n",
      "\n",
      "LogReg vs Baseline\n",
      "  Mean difference: -0.07581\n",
      "  Std dev: 0.06653\n",
      "  t-statistic: -3.60326\n",
      "  p-value: 0.00572\n",
      "  95% Confidence Interval: [-0.12340, -0.02822]\n"
     ]
    }
   ],
   "source": [
    "errors_ann = results_df['ANN-error'].values\n",
    "errors_log = results_df['log-error'].values\n",
    "errors_baseline = results_df['Baseline-error'].values\n",
    "\n",
    "r_ANN_log = errors_ann - errors_log\n",
    "r_ANN_baseline = errors_ann - errors_baseline\n",
    "r_log_baseline = errors_log - errors_baseline\n",
    "\n",
    "def Method_11_4_1(r, alpha=0.05):\n",
    "    J = len(r)\n",
    "    r_mean = np.mean(r)\n",
    "    sigma_hat = np.std(r, ddof=1)\n",
    "    t_stat = r_mean / (sigma_hat / np.sqrt(J))\n",
    "    p_value = 2 * (1 - stats.t.cdf(np.abs(t_stat), df=J - 1))\n",
    "    t_crit = stats.t.ppf(1 - alpha / 2, df=J - 1)\n",
    "    ci_L = r_mean - t_crit * (sigma_hat / np.sqrt(J))\n",
    "    ci_U = r_mean + t_crit * (sigma_hat / np.sqrt(J))\n",
    "    return p_value, (ci_L, ci_U)\n",
    "\n",
    "#Chat GPT helped format\n",
    "pairs = {\n",
    "    \"ANN vs LogReg\": r_ANN_log,\n",
    "    \"ANN vs Baseline\": r_ANN_baseline,\n",
    "    \"LogReg vs Baseline\": r_log_baseline\n",
    "}\n",
    "\n",
    "for name, r in pairs.items():\n",
    "    p_value, ci = Method_11_4_1(r, alpha=0.05)\n",
    "    print(f\"\\n{name}\")\n",
    "    print(f\"  p-value: {p_value:.5f}\")\n",
    "    print(f\"  95% Confidence Interval: [{ci[0]:.5f}, {ci[1]:.5f}]\")"
   ]
  }
 ],
 "metadata": {
  "kernelspec": {
   "display_name": "base",
   "language": "python",
   "name": "python3"
  },
  "language_info": {
   "codemirror_mode": {
    "name": "ipython",
    "version": 3
   },
   "file_extension": ".py",
   "mimetype": "text/x-python",
   "name": "python",
   "nbconvert_exporter": "python",
   "pygments_lexer": "ipython3",
   "version": "3.12.2"
  }
 },
 "nbformat": 4,
 "nbformat_minor": 5
}
